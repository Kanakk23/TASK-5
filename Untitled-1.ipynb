{
 "cells": [
  {
   "cell_type": "code",
   "execution_count": 72,
   "metadata": {},
   "outputs": [],
   "source": [
    "import numpy as np\n",
    "import pandas as pd\n",
    "import matplotlib\n",
    "import matplotlib.pyplot as plt\n",
    "import networkx as nx"
   ]
  },
  {
   "cell_type": "code",
   "execution_count": 73,
   "metadata": {},
   "outputs": [],
   "source": [
    "path1 = input(\"Please enter the path of canceled.csv file: \")\n",
    "path2 = input(\"Please enter the path of flights.csv file: \")\n",
    "path3 = input(\"Please enter the path of passengers.csv file: \")\n",
    "path4= input(\"Please enter the desired path of output file stats.csv file: \")\n",
    "path5 = input(\"Please enter the desired path of output file allot.csv file: \")\n",
    "\n",
    "canceled = pd.read_csv(path1)\n",
    "flights = pd.read_csv(path2)\n",
    "passengers = pd.read_csv(path3)"
   ]
  },
  {
   "cell_type": "code",
   "execution_count": 74,
   "metadata": {},
   "outputs": [],
   "source": [
    "import time\n",
    "start_time = time.time()"
   ]
  },
  {
   "cell_type": "code",
   "execution_count": 75,
   "metadata": {},
   "outputs": [],
   "source": [
    "flights.insert(4,'OCCUPIED','')\n",
    "flights.insert(5,'VACANT','')"
   ]
  },
  {
   "cell_type": "code",
   "execution_count": 76,
   "metadata": {},
   "outputs": [],
   "source": [
    "for i in flights.loc[:,'FID']:\n",
    "      flights.at[i,'OCCUPIED']=passengers['FID'].value_counts()[i]\n",
    "      flights.at[i,'VACANT']=flights.at[i,'CAPACITY']-flights.at[i,'OCCUPIED']\n"
   ]
  },
  {
   "cell_type": "code",
   "execution_count": 77,
   "metadata": {},
   "outputs": [],
   "source": [
    "s=canceled.iloc[:,0]\n",
    "sum=0;\n",
    "\n",
    "for i in s:\n",
    "  # print(i)\n",
    "  sum+= passengers['FID'].value_counts()[i]\n",
    "dict = {\n",
    "    \"Affected\":[sum]\n",
    "}\n",
    "df=pd.DataFrame(dict)\n",
    "df.to_csv('stats.csv')"
   ]
  },
  {
   "cell_type": "code",
   "execution_count": 78,
   "metadata": {},
   "outputs": [],
   "source": [
    "G = nx.from_pandas_edgelist(\n",
    "    flights,\n",
    "    source=\"DEP\",\n",
    "    target=\"ARR\",\n",
    "    edge_key=\"FID\",\n",
    "    edge_attr=[\"DEP_TIME\", \"ARR_TIME\",\"FID\",\"CAPACITY\"],\n",
    "    create_using=nx.MultiDiGraph(),\n",
    ")"
   ]
  },
  {
   "cell_type": "code",
   "execution_count": 79,
   "metadata": {},
   "outputs": [],
   "source": [
    "for fid in canceled.iloc[:,0]:\n",
    "  G.remove_edge(flights.loc[fid,\"DEP\"], flights.loc[fid,\"ARR\"], key=fid)"
   ]
  },
  {
   "cell_type": "code",
   "execution_count": 80,
   "metadata": {},
   "outputs": [],
   "source": [
    "def get_capacity(path):\n",
    "    min_capacity = float('inf') \n",
    "    for edge in path:\n",
    "      _, _, fid = edge\n",
    "      cap = flights.loc[fid, 'VACANT']\n",
    "      min_capacity = min(min_capacity, cap)\n",
    "    return min_capacity"
   ]
  },
  {
   "cell_type": "code",
   "execution_count": 81,
   "metadata": {},
   "outputs": [],
   "source": [
    "rows = len(canceled)\n",
    "all_valid_paths = []\n",
    "\n",
    "for i in range(rows):\n",
    "    fid = canceled.iloc[i, 0]\n",
    "    dep = flights.loc[fid, \"DEP\"]\n",
    "    arr = flights.loc[fid, \"ARR\"]\n",
    "    dept = flights.loc[fid, \"DEP_TIME\"]\n",
    "    \n",
    "    valid_paths = []\n",
    "    sum_paths = 0\n",
    "\n",
    "    for path in sorted(nx.all_simple_edge_paths(G, dep, arr, 3)):\n",
    "        if len(path) == 3 and get_capacity(path) >0 :\n",
    "            if (flights.loc[path[1][2], \"DEP_TIME\"] - flights.loc[path[0][2], \"ARR_TIME\"] >= 7200) and \\\n",
    "               (flights.loc[path[2][2], \"DEP_TIME\"] - flights.loc[path[1][2], \"ARR_TIME\"] >= 7200):\n",
    "                valid_paths.append(path)\n",
    "                sum_paths += 1\n",
    "        elif len(path) == 2 and get_capacity(path) >0:\n",
    "            if (flights.loc[path[1][2], \"DEP_TIME\"] - flights.loc[path[0][2], \"ARR_TIME\"] >= 7200):\n",
    "                valid_paths.append(path)\n",
    "                sum_paths += 1\n",
    "        elif len(path) == 1 and get_capacity(path) >0 :\n",
    "            valid_paths.append(path)\n",
    "            sum_paths += 1\n",
    "\n",
    "    def custom_sort(path):\n",
    "        arr_time_diff = flights.loc[path[-1][2], \"ARR_TIME\"] - flights.loc[fid, \"ARR_TIME\"]\n",
    "        sign_priority = 1 if arr_time_diff >= 0 else -1\n",
    "        length_priority = len(path)\n",
    "        magnitude_priority = abs(arr_time_diff)\n",
    "        return ( sign_priority,length_priority,magnitude_priority)\n",
    "\n",
    "    valid_paths = sorted(valid_paths, key=custom_sort)\n",
    "    all_valid_paths.append(valid_paths)\n"
   ]
  },
  {
   "cell_type": "code",
   "execution_count": 82,
   "metadata": {},
   "outputs": [],
   "source": [
    "order = canceled.iloc[:,0].tolist()\n",
    "filtered_passengers = passengers[passengers['FID'].isin(order)]\n",
    "sorted_passengers = filtered_passengers.set_index('FID').loc[order].reset_index()\n",
    "sorted_passengers_df = pd.DataFrame(sorted_passengers)\n",
    "sorted_passengers_df = sorted_passengers_df.assign(edges=None)\n",
    "sorted_passengers_df = sorted_passengers_df.assign(FID1=None)\n",
    "sorted_passengers_df = sorted_passengers_df.assign(FID2=None)\n",
    "sorted_passengers_df = sorted_passengers_df.assign(FID3=None)\n"
   ]
  },
  {
   "cell_type": "code",
   "execution_count": 83,
   "metadata": {},
   "outputs": [
    {
     "name": "stderr",
     "output_type": "stream",
     "text": [
      "C:\\Users\\hp\\AppData\\Local\\Temp\\ipykernel_4136\\3727498791.py:69: FutureWarning: Downcasting object dtype arrays on .fillna, .ffill, .bfill is deprecated and will change in a future version. Call result.infer_objects(copy=False) instead. To opt-in to the future behavior, set `pd.set_option('future.no_silent_downcasting', True)`\n",
      "  sorted_passengers_df['edges']=sorted_passengers_df['edges'].fillna(0)\n"
     ]
    }
   ],
   "source": [
    "def is_fid_in_path(fid_set, path):\n",
    "    \n",
    "    for edge in path:\n",
    "        \n",
    "            _, _, fid = edge  \n",
    "            if fid in fid_set:\n",
    "                return True  \n",
    "    return False  \n",
    "\n",
    "rows = len(canceled)\n",
    "occupied = []\n",
    "\n",
    "for i in range(rows):\n",
    "    fid = canceled.iloc[i, 0]\n",
    "    occupied.append(flights.loc[fid, \"OCCUPIED\"])\n",
    "\n",
    "\n",
    "used_fids = set()\n",
    "Allocated =0\n",
    "t=0\n",
    "count=0\n",
    "c=0\n",
    "Layover = 0\n",
    "occ=occupied.copy()\n",
    "total_passengers = np.sum(occupied)\n",
    "\n",
    "for j in range(0,rows):\n",
    "    if j > 0:\n",
    "        c += occ[j - 1]\n",
    "    else:\n",
    "        c = 0\n",
    "    count = c\n",
    "   \n",
    "   \n",
    "    i = 0\n",
    "    while i < len(all_valid_paths[j]) and occupied[j] > 0:\n",
    "        if not is_fid_in_path(used_fids, all_valid_paths[j][i]):\n",
    "            for edge in all_valid_paths[j][i]:\n",
    "                _, _, fid = edge\n",
    "                used_fids.add(fid)\n",
    "\n",
    "            path_capacity = get_capacity(all_valid_paths[j][i])\n",
    "\n",
    "            if occupied[j] >= path_capacity:\n",
    "                occupied[j] -= path_capacity\n",
    "                Allocated += path_capacity\n",
    "                Layover+= (len(all_valid_paths[j][i])-1)*path_capacity\n",
    "                t += abs(flights.loc[fid, \"ARR_TIME\"] - flights.loc[canceled.iloc[j, 0], \"ARR_TIME\"]) * path_capacity\n",
    "                sorted_passengers_df.iloc[count:count + path_capacity, 2] = len(all_valid_paths[j][i])\n",
    "               \n",
    "                for k in range(len(all_valid_paths[j][i])):\n",
    "                    sorted_passengers_df.iloc[count:count + path_capacity, 3 + k] = all_valid_paths[j][i][k][-1]\n",
    "                    \n",
    "                count += path_capacity\n",
    "            else:\n",
    "                t += abs(flights.loc[fid, \"ARR_TIME\"] - flights.loc[canceled.iloc[j, 0], \"ARR_TIME\"]) * occupied[j]\n",
    "                Allocated += occupied[j]\n",
    "                remaining = occupied[j]\n",
    "                Layover+= (len(all_valid_paths[j][i])-1)*occupied[j]\n",
    "                sorted_passengers_df.iloc[count:count + remaining, 2] = len(all_valid_paths[j][i])\n",
    "                \n",
    "                for k in range(len(all_valid_paths[j][i])):\n",
    "                    sorted_passengers_df.iloc[count:count + remaining, 3 + k] = all_valid_paths[j][i][k][-1]\n",
    "                    \n",
    "                count += remaining\n",
    "                occupied[j] = 0\n",
    "\n",
    "        i += 1\n",
    "sorted_passengers_df['edges']=sorted_passengers_df['edges'].fillna(0)\n",
    "\n",
    "for idx in range(count, total_passengers):\n",
    "    sorted_passengers_df.iloc[idx, 2] = 0\n",
    "# sorted_passengers_df = sorted_passengers_df.drop(sorted_passengers_df.columns[0], axis=1)\n",
    "sorted_passengers_df.drop(sorted_passengers_df.columns[0], axis=1, inplace=True)\n",
    "sorted_passengers_df.columns = [\"\" for _ in sorted_passengers_df.columns]\n",
    "sorted_passengers_df.to_csv('allot.csv',index=False)\n"
   ]
  },
  {
   "cell_type": "code",
   "execution_count": 84,
   "metadata": {},
   "outputs": [],
   "source": [
    "avgtime= t/Allocated\n",
    "avgLay= Layover/Allocated\n",
    "\n",
    "\n",
    "dict = {\n",
    "    \"Reallocated\":[Allocated]\n",
    "}\n",
    "df1=pd.DataFrame(dict)\n",
    "df['Reallocated']=df1\n",
    "df.to_csv('stats.csv')\n",
    "\n",
    "# df = df.drop(df.columns[0], axis=1)\n",
    "\n",
    "\n",
    "dict1 = {\n",
    "    \"AvgLay\":[avgLay]\n",
    "}\n",
    "df1=pd.DataFrame(dict1)\n",
    "df['AvgLay']=df1\n",
    "df.to_csv('stats.csv')\n",
    "\n",
    "dict1 = {\n",
    "    \"AvgLay\":[avgLay]\n",
    "}\n",
    "df1=pd.DataFrame(dict1)\n",
    "df['AvgLay']=df1\n",
    "df.to_csv('stats.csv')\n",
    "\n",
    "dict1 = {\n",
    "    \"TimeDiff\":[avgtime]\n",
    "}\n",
    "df1=pd.DataFrame(dict1)\n",
    "df['TimeDiff']=df1\n",
    "df.to_csv('stats.csv')"
   ]
  },
  {
   "cell_type": "code",
   "execution_count": 85,
   "metadata": {},
   "outputs": [],
   "source": [
    "end_time = time.time()\n",
    "runtm =(end_time - start_time)*1000\n",
    "\n",
    "dict1 = {\n",
    "    \"SolTime\":[runtm]\n",
    "}\n",
    "df1=pd.DataFrame(dict1)\n",
    "df['SolTime']=df1\n",
    "df.to_csv('stats.csv', index=False)"
   ]
  }
 ],
 "metadata": {
  "kernelspec": {
   "display_name": "Python 3",
   "language": "python",
   "name": "python3"
  },
  "language_info": {
   "codemirror_mode": {
    "name": "ipython",
    "version": 3
   },
   "file_extension": ".py",
   "mimetype": "text/x-python",
   "name": "python",
   "nbconvert_exporter": "python",
   "pygments_lexer": "ipython3",
   "version": "3.12.2"
  }
 },
 "nbformat": 4,
 "nbformat_minor": 2
}
